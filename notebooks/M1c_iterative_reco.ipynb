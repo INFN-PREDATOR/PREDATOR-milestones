{
 "cells": [
  {
   "cell_type": "markdown",
   "id": "4184abe3-9dc1-4c6b-9dde-165e1312bc60",
   "metadata": {},
   "source": [
    "# Milestone M1c - Iterative reconstruction algorithms"
   ]
  },
  {
   "cell_type": "code",
   "execution_count": null,
   "id": "e81c8427-d041-4872-8c7a-1c9cbf9d0eca",
   "metadata": {},
   "outputs": [],
   "source": []
  }
 ],
 "metadata": {
  "kernelspec": {
   "display_name": "Python 3 (ipykernel)",
   "language": "python",
   "name": "python3"
  },
  "language_info": {
   "codemirror_mode": {
    "name": "ipython",
    "version": 3
   },
   "file_extension": ".py",
   "mimetype": "text/x-python",
   "name": "python",
   "nbconvert_exporter": "python",
   "pygments_lexer": "ipython3",
   "version": "3.9.18"
  }
 },
 "nbformat": 4,
 "nbformat_minor": 5
}
